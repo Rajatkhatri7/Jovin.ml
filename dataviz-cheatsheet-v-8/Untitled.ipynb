{
 "cells": [
  {
   "cell_type": "markdown",
   "metadata": {},
   "source": [
    "Insurance cost prediction using linear regression\n",
    "In this assignment we're going to use information like a person's age, sex, BMI, no. of children and smoking habit to predict the price of yearly medical bills. This kind of model is useful for insurance companies to determine the yearly insurance premium for a person. The dataset for this problem is taken from: https://www.kaggle.com/mirichoi0218/insurance\n",
    "\n",
    "We will create a model with the following steps: 1. Download and explore the dataset 2. Prepare the dataset for training 3. Create a linear regression model 4. Train the model to fit the data 5. Make predictions using the trained model\n",
    "\n",
    "This assignment builds upon the concepts from the first 2 lectures. It will help to review these Jupyter notebooks:\n",
    "\n",
    "PyTorch basics: https://jovian.ml/aakashns/01-pytorch-basics\n",
    "Linear Regression: https://jovian.ml/aakashns/02-linear-regression\n",
    "Logistic Regression: https://jovian.ml/aakashns/03-logistic-regression\n",
    "Linear regression (minimal): https://jovian.ml/aakashns/housing-linear-minimal\n",
    "Logistic regression (minimal): https://jovian.ml/aakashns/mnist-logistic-minimal\n",
    "As you go through this notebook, you will find a ??? in certain places. Your job is to replace the ??? with appropriate code or values, to ensure that the notebook runs properly end-to-end . In some cases, you'll be required to choose some hyperparameters (learning rate, batch size etc.). Try to experiment with the hypeparameters to get the lowest loss."
   ]
  },
  {
   "cell_type": "code",
   "execution_count": null,
   "metadata": {},
   "outputs": [],
   "source": []
  }
 ],
 "metadata": {
  "kernelspec": {
   "display_name": "Python 3",
   "language": "python",
   "name": "python3"
  },
  "language_info": {
   "codemirror_mode": {
    "name": "ipython",
    "version": 3
   },
   "file_extension": ".py",
   "mimetype": "text/x-python",
   "name": "python",
   "nbconvert_exporter": "python",
   "pygments_lexer": "ipython3",
   "version": "3.7.7"
  }
 },
 "nbformat": 4,
 "nbformat_minor": 4
}
